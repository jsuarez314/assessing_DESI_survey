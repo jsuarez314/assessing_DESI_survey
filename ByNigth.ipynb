{
 "cells": [
  {
   "cell_type": "code",
   "execution_count": 1,
   "metadata": {},
   "outputs": [],
   "source": [
    "from tools.by_night import find_outliers as foutden\n",
    "import pygwalker as pyg\n",
    "import pandas    as pd\n",
    "import numpy     as np\n",
    "import pylab     as pl"
   ]
  },
  {
   "cell_type": "code",
   "execution_count": 2,
   "metadata": {},
   "outputs": [],
   "source": [
    "##################################\n",
    "#### Observation Night Params ####\n",
    "##################################\n",
    "night   = 20210709\n",
    "survey  = 'main'\n",
    "release = 'iron'\n",
    "\n",
    "##################################\n",
    "####        UMAP Params       ####\n",
    "##################################\n",
    "nn = 45\n",
    "md = 1.0\n",
    "me = 'cosine'\n",
    "\n",
    "##################################\n",
    "####        FoF Params       ####\n",
    "##################################\n",
    "ll = 0.15\n",
    "nm = 5\n",
    "\n",
    "# Indicate the output path\n",
    "outpath = f'./byNight'"
   ]
  },
  {
   "cell_type": "code",
   "execution_count": 3,
   "metadata": {},
   "outputs": [],
   "source": [
    "data_params = (release, survey, night, outpath)\n",
    "umap_params = (nn, md, me)\n",
    "fof_params  = (ll, nm)"
   ]
  },
  {
   "cell_type": "code",
   "execution_count": 4,
   "metadata": {},
   "outputs": [],
   "source": [
    "finder = foutden(data_params, umap_params, fof_params)"
   ]
  },
  {
   "cell_type": "code",
   "execution_count": 5,
   "metadata": {},
   "outputs": [
    {
     "name": "stdout",
     "output_type": "stream",
     "text": [
      "#######################\n",
      "Creating dataset\n",
      "#######################\n",
      "INFO:spectra.py:291:read_spectra: iotime 2.885 sec to read spectra-0-20095-thru20210709.fits.gz at 2023-05-08T09:48:01.623094\n",
      "INFO:spectra.py:291:read_spectra: iotime 2.761 sec to read spectra-1-20095-thru20210709.fits.gz at 2023-05-08T09:48:06.002016\n",
      "INFO:spectra.py:291:read_spectra: iotime 2.492 sec to read spectra-2-20095-thru20210709.fits.gz at 2023-05-08T09:48:09.979815\n",
      "INFO:spectra.py:291:read_spectra: iotime 2.542 sec to read spectra-3-20095-thru20210709.fits.gz at 2023-05-08T09:48:13.940983\n",
      "INFO:spectra.py:291:read_spectra: iotime 2.546 sec to read spectra-4-20095-thru20210709.fits.gz at 2023-05-08T09:48:17.892840\n",
      "INFO:spectra.py:291:read_spectra: iotime 2.536 sec to read spectra-5-20095-thru20210709.fits.gz at 2023-05-08T09:48:21.844482\n",
      "INFO:spectra.py:291:read_spectra: iotime 2.562 sec to read spectra-6-20095-thru20210709.fits.gz at 2023-05-08T09:48:25.809281\n",
      "INFO:spectra.py:291:read_spectra: iotime 2.478 sec to read spectra-7-20095-thru20210709.fits.gz at 2023-05-08T09:48:29.721145\n",
      "INFO:spectra.py:291:read_spectra: iotime 2.398 sec to read spectra-8-20095-thru20210709.fits.gz at 2023-05-08T09:48:33.474406\n",
      "INFO:spectra.py:291:read_spectra: iotime 2.394 sec to read spectra-9-20095-thru20210709.fits.gz at 2023-05-08T09:48:37.186468\n",
      "INFO:spectra.py:291:read_spectra: iotime 2.416 sec to read spectra-0-20206-thru20210709.fits.gz at 2023-05-08T09:48:40.916496\n",
      "INFO:spectra.py:291:read_spectra: iotime 2.433 sec to read spectra-1-20206-thru20210709.fits.gz at 2023-05-08T09:48:44.665780\n",
      "INFO:spectra.py:291:read_spectra: iotime 2.493 sec to read spectra-2-20206-thru20210709.fits.gz at 2023-05-08T09:48:48.553640\n",
      "INFO:spectra.py:291:read_spectra: iotime 2.612 sec to read spectra-3-20206-thru20210709.fits.gz at 2023-05-08T09:48:52.585988\n",
      "INFO:spectra.py:291:read_spectra: iotime 2.343 sec to read spectra-4-20206-thru20210709.fits.gz at 2023-05-08T09:48:56.324196\n",
      "INFO:spectra.py:291:read_spectra: iotime 2.399 sec to read spectra-5-20206-thru20210709.fits.gz at 2023-05-08T09:49:00.052807\n",
      "INFO:spectra.py:291:read_spectra: iotime 2.409 sec to read spectra-6-20206-thru20210709.fits.gz at 2023-05-08T09:49:03.804083\n",
      "INFO:spectra.py:291:read_spectra: iotime 2.430 sec to read spectra-7-20206-thru20210709.fits.gz at 2023-05-08T09:49:07.556822\n",
      "INFO:spectra.py:291:read_spectra: iotime 2.509 sec to read spectra-8-20206-thru20210709.fits.gz at 2023-05-08T09:49:11.379333\n",
      "INFO:spectra.py:291:read_spectra: iotime 2.425 sec to read spectra-9-20206-thru20210709.fits.gz at 2023-05-08T09:49:15.119044\n",
      "INFO:spectra.py:291:read_spectra: iotime 1.270 sec to read spectra-0-20761-thru20210709.fits.gz at 2023-05-08T09:49:17.747366\n",
      "INFO:spectra.py:291:read_spectra: iotime 1.301 sec to read spectra-1-20761-thru20210709.fits.gz at 2023-05-08T09:49:19.736986\n",
      "INFO:spectra.py:291:read_spectra: iotime 1.327 sec to read spectra-2-20761-thru20210709.fits.gz at 2023-05-08T09:49:21.717455\n",
      "INFO:spectra.py:291:read_spectra: iotime 1.321 sec to read spectra-3-20761-thru20210709.fits.gz at 2023-05-08T09:49:23.707069\n",
      "INFO:spectra.py:291:read_spectra: iotime 1.259 sec to read spectra-4-20761-thru20210709.fits.gz at 2023-05-08T09:49:25.637530\n",
      "INFO:spectra.py:291:read_spectra: iotime 1.363 sec to read spectra-5-20761-thru20210709.fits.gz at 2023-05-08T09:49:27.683563\n",
      "INFO:spectra.py:291:read_spectra: iotime 1.247 sec to read spectra-6-20761-thru20210709.fits.gz at 2023-05-08T09:49:29.637054\n",
      "INFO:spectra.py:291:read_spectra: iotime 1.282 sec to read spectra-7-20761-thru20210709.fits.gz at 2023-05-08T09:49:31.580436\n",
      "INFO:spectra.py:291:read_spectra: iotime 1.272 sec to read spectra-8-20761-thru20210709.fits.gz at 2023-05-08T09:49:33.520545\n",
      "INFO:spectra.py:291:read_spectra: iotime 1.252 sec to read spectra-9-20761-thru20210709.fits.gz at 2023-05-08T09:49:35.444414\n",
      "INFO:spectra.py:291:read_spectra: iotime 1.328 sec to read spectra-0-20762-thru20210709.fits.gz at 2023-05-08T09:49:37.439404\n",
      "INFO:spectra.py:291:read_spectra: iotime 1.290 sec to read spectra-1-20762-thru20210709.fits.gz at 2023-05-08T09:49:39.401523\n",
      "INFO:spectra.py:291:read_spectra: iotime 1.423 sec to read spectra-2-20762-thru20210709.fits.gz at 2023-05-08T09:49:41.497243\n",
      "INFO:spectra.py:291:read_spectra: iotime 1.254 sec to read spectra-3-20762-thru20210709.fits.gz at 2023-05-08T09:49:43.426510\n",
      "INFO:spectra.py:291:read_spectra: iotime 1.414 sec to read spectra-4-20762-thru20210709.fits.gz at 2023-05-08T09:49:45.514217\n",
      "INFO:spectra.py:291:read_spectra: iotime 1.272 sec to read spectra-5-20762-thru20210709.fits.gz at 2023-05-08T09:49:47.463234\n",
      "INFO:spectra.py:291:read_spectra: iotime 1.311 sec to read spectra-6-20762-thru20210709.fits.gz at 2023-05-08T09:49:49.445144\n",
      "INFO:spectra.py:291:read_spectra: iotime 1.296 sec to read spectra-7-20762-thru20210709.fits.gz at 2023-05-08T09:49:51.415543\n",
      "INFO:spectra.py:291:read_spectra: iotime 1.291 sec to read spectra-8-20762-thru20210709.fits.gz at 2023-05-08T09:49:53.372915\n",
      "INFO:spectra.py:291:read_spectra: iotime 1.310 sec to read spectra-9-20762-thru20210709.fits.gz at 2023-05-08T09:49:55.352628\n",
      "INFO:spectra.py:291:read_spectra: iotime 1.340 sec to read spectra-0-20924-thru20210709.fits.gz at 2023-05-08T09:49:57.369911\n",
      "INFO:spectra.py:291:read_spectra: iotime 1.453 sec to read spectra-1-20924-thru20210709.fits.gz at 2023-05-08T09:49:59.559660\n",
      "INFO:spectra.py:291:read_spectra: iotime 1.372 sec to read spectra-2-20924-thru20210709.fits.gz at 2023-05-08T09:50:01.667462\n",
      "INFO:spectra.py:291:read_spectra: iotime 1.437 sec to read spectra-3-20924-thru20210709.fits.gz at 2023-05-08T09:50:03.873301\n",
      "INFO:spectra.py:291:read_spectra: iotime 1.452 sec to read spectra-4-20924-thru20210709.fits.gz at 2023-05-08T09:50:06.144648\n",
      "INFO:spectra.py:291:read_spectra: iotime 3.431 sec to read spectra-5-20924-thru20210709.fits.gz at 2023-05-08T09:50:10.331415\n",
      "INFO:spectra.py:291:read_spectra: iotime 1.396 sec to read spectra-6-20924-thru20210709.fits.gz at 2023-05-08T09:50:12.478434\n",
      "INFO:spectra.py:291:read_spectra: iotime 1.378 sec to read spectra-7-20924-thru20210709.fits.gz at 2023-05-08T09:50:14.592963\n",
      "INFO:spectra.py:291:read_spectra: iotime 1.391 sec to read spectra-8-20924-thru20210709.fits.gz at 2023-05-08T09:50:16.731949\n",
      "INFO:spectra.py:291:read_spectra: iotime 1.384 sec to read spectra-9-20924-thru20210709.fits.gz at 2023-05-08T09:50:18.881126\n",
      "\n",
      "\n",
      "#######################\n",
      "Finding outliers\n",
      "UMAP params Nn=45, Md=1.0, Me=cosine\n",
      "FoF params  Ll=0.15, Nm=5\n",
      "#######################\n",
      "%%%%%%%%%%%%%%%%%%%%%%%\n",
      "Band B ...\n",
      "1 islands for ll 0.15 with min 5 members!\n",
      "20 outliers identified!\n"
     ]
    },
    {
     "name": "stderr",
     "output_type": "stream",
     "text": [
      "20210709/iron/main->b: 100%|██████████| 1/1 [00:03<00:00,  3.36s/it]\n"
     ]
    },
    {
     "name": "stdout",
     "output_type": "stream",
     "text": [
      "Time=228.46s - Memory_used=5.24GB\n",
      "%%%%%%%%%%%%%%%%%%%%%%%\n",
      "\n",
      "\n",
      "%%%%%%%%%%%%%%%%%%%%%%%\n",
      "Band R ...\n",
      "13 islands for ll 0.15 with min 5 members!\n",
      "214 outliers identified!\n"
     ]
    },
    {
     "name": "stderr",
     "output_type": "stream",
     "text": [
      "20210709/iron/main->r: 100%|██████████| 13/13 [00:42<00:00,  3.26s/it]\n"
     ]
    },
    {
     "name": "stdout",
     "output_type": "stream",
     "text": [
      "Time=86.39s - Memory_used=5.65GB\n",
      "%%%%%%%%%%%%%%%%%%%%%%%\n",
      "\n",
      "\n",
      "%%%%%%%%%%%%%%%%%%%%%%%\n",
      "Band Z ...\n",
      "39 islands for ll 0.15 with min 5 members!\n",
      "826 outliers identified!\n"
     ]
    },
    {
     "name": "stderr",
     "output_type": "stream",
     "text": [
      "20210709/iron/main->z: 100%|██████████| 39/39 [02:31<00:00,  3.88s/it]\n"
     ]
    },
    {
     "name": "stdout",
     "output_type": "stream",
     "text": [
      "Time=194.44s - Memory_used=6.35GB\n",
      "%%%%%%%%%%%%%%%%%%%%%%%\n",
      "\n",
      "\n",
      "%%%%%%%%%%%%%%%%%%%%%%%\n",
      "Band BRZ ...\n",
      "19 islands for ll 0.15 with min 5 members!\n",
      "381 outliers identified!\n"
     ]
    },
    {
     "name": "stderr",
     "output_type": "stream",
     "text": [
      "20210709/iron/main->brz: 100%|██████████| 19/19 [00:58<00:00,  3.05s/it]"
     ]
    },
    {
     "name": "stdout",
     "output_type": "stream",
     "text": [
      "Time=138.17s - Memory_used=9.44GB\n",
      "%%%%%%%%%%%%%%%%%%%%%%%\n",
      "\n",
      "\n",
      "Total Time=647.46s - Total Memory_used=26.68GB - Number of spectra=10.0\n"
     ]
    },
    {
     "name": "stderr",
     "output_type": "stream",
     "text": [
      "\n"
     ]
    }
   ],
   "source": [
    "finder.run()"
   ]
  }
 ],
 "metadata": {
  "kernelspec": {
   "display_name": "OutDet",
   "language": "python",
   "name": "outdet"
  },
  "language_info": {
   "codemirror_mode": {
    "name": "ipython",
    "version": 3
   },
   "file_extension": ".py",
   "mimetype": "text/x-python",
   "name": "python",
   "nbconvert_exporter": "python",
   "pygments_lexer": "ipython3",
   "version": "3.9.0"
  }
 },
 "nbformat": 4,
 "nbformat_minor": 4
}
