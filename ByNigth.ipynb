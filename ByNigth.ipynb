{
 "cells": [
  {
   "cell_type": "code",
   "execution_count": 1,
   "metadata": {},
   "outputs": [],
   "source": [
    "from tools.by_night import find_outliers as foutden\n",
    "import pygwalker as pyg\n",
    "import pandas    as pd\n",
    "import numpy     as np\n",
    "import pylab     as pl"
   ]
  },
  {
   "cell_type": "code",
   "execution_count": 2,
   "metadata": {},
   "outputs": [],
   "source": [
    "##################################\n",
    "#### Observation Night Params ####\n",
    "##################################\n",
    "night   = 20230507\n",
    "survey  = 'main'\n",
    "release = 'daily'\n",
    "\n",
    "##################################\n",
    "####        UMAP Params       ####\n",
    "##################################\n",
    "nn = 45\n",
    "md = 1.0\n",
    "me = 'cosine'\n",
    "\n",
    "##################################\n",
    "####        FoF Params       ####\n",
    "##################################\n",
    "ll = 0.15\n",
    "nm = 5\n",
    "\n",
    "# Indicate the output path\n",
    "outpath = f'./byNight'"
   ]
  },
  {
   "cell_type": "code",
   "execution_count": 3,
   "metadata": {},
   "outputs": [],
   "source": [
    "data_params = (release, survey, night, outpath)\n",
    "umap_params = (nn, md, me)\n",
    "fof_params  = (ll, nm)"
   ]
  },
  {
   "cell_type": "code",
   "execution_count": 4,
   "metadata": {},
   "outputs": [],
   "source": [
    "finder = foutden(data_params, umap_params, fof_params)"
   ]
  },
  {
   "cell_type": "code",
   "execution_count": null,
   "metadata": {},
   "outputs": [
    {
     "name": "stdout",
     "output_type": "stream",
     "text": [
      "#######################\n",
      "Creating dataset\n",
      "#######################\n",
      "Data set already exist!\n",
      "\n",
      "\n",
      "#######################\n",
      "Finding outliers\n",
      "UMAP params Nn=45, Md=1.0, Me=cosine\n",
      "FoF params  Ll=0.15, Nm=5\n",
      "#######################\n",
      "%%%%%%%%%%%%%%%%%%%%%%%\n",
      "Band B ...\n",
      "Reduction already exist!\n",
      "13 islands for ll 0.15 with min 5 members!\n",
      "181 outliers identified!\n"
     ]
    },
    {
     "name": "stderr",
     "output_type": "stream",
     "text": [
      "20230507/daily/main->b: 100%|██████████| 13/13 [01:28<00:00,  6.82s/it]\n"
     ]
    },
    {
     "name": "stdout",
     "output_type": "stream",
     "text": [
      "Time=94.70s - Memory_used=0.00GB\n",
      "%%%%%%%%%%%%%%%%%%%%%%%\n",
      "\n",
      "\n",
      "%%%%%%%%%%%%%%%%%%%%%%%\n",
      "Band R ...\n",
      "Reduction already exist!\n",
      "11 islands for ll 0.15 with min 5 members!\n",
      "86 outliers identified!\n"
     ]
    },
    {
     "name": "stderr",
     "output_type": "stream",
     "text": [
      "20230507/daily/main->r:  18%|█▊        | 2/11 [00:14<01:07,  7.49s/it]"
     ]
    }
   ],
   "source": [
    "finder.run()"
   ]
  },
  {
   "cell_type": "code",
   "execution_count": null,
   "metadata": {},
   "outputs": [],
   "source": [
    "df = pd.read_pickle(f'{outpath}/{night}/{release}/{survey}/umap/{night}_{release}_{survey}_b_spectra_nn{nn}_md{md}_{me}.csv')\n",
    "gwalker = pyg.walk(df)"
   ]
  },
  {
   "cell_type": "code",
   "execution_count": null,
   "metadata": {},
   "outputs": [],
   "source": []
  }
 ],
 "metadata": {
  "kernelspec": {
   "display_name": "OutDet",
   "language": "python",
   "name": "outdet"
  },
  "language_info": {
   "codemirror_mode": {
    "name": "ipython",
    "version": 3
   },
   "file_extension": ".py",
   "mimetype": "text/x-python",
   "name": "python",
   "nbconvert_exporter": "python",
   "pygments_lexer": "ipython3",
   "version": "3.9.0"
  }
 },
 "nbformat": 4,
 "nbformat_minor": 4
}
